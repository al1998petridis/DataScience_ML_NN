{
 "cells": [
  {
   "cell_type": "markdown",
   "metadata": {},
   "source": [
    "# Τρίτη Εργασία\n",
    "## Ανατομία του Σθένους στο Spotify\n",
    "---\n",
    "> Αλέξανδρος Πετρίδης <br/>\n",
    "> al1998petridis@gmail.com"
   ]
  },
  {
   "cell_type": "markdown",
   "metadata": {},
   "source": [
    "### Εγκατάσταση βιβλιοθηκών για το συγκεκριμένο jupyter notebook "
   ]
  },
  {
   "cell_type": "code",
   "execution_count": 10,
   "metadata": {},
   "outputs": [
    {
     "name": "stdout",
     "output_type": "stream",
     "text": [
      "Requirement already satisfied: absl-py==1.0.0 in /home/nobodypc/.local/lib/python3.8/site-packages (from -r requirements.txt (line 1)) (1.0.0)\n",
      "Requirement already satisfied: asttokens==2.0.5 in /home/nobodypc/.local/lib/python3.8/site-packages (from -r requirements.txt (line 2)) (2.0.5)\n",
      "Requirement already satisfied: astunparse==1.6.3 in /home/nobodypc/.local/lib/python3.8/site-packages (from -r requirements.txt (line 3)) (1.6.3)\n",
      "Requirement already satisfied: backcall==0.2.0 in /home/nobodypc/.local/lib/python3.8/site-packages (from -r requirements.txt (line 4)) (0.2.0)\n",
      "Requirement already satisfied: cachetools==5.0.0 in /home/nobodypc/.local/lib/python3.8/site-packages (from -r requirements.txt (line 5)) (5.0.0)\n",
      "Requirement already satisfied: certifi==2021.10.8 in /home/nobodypc/.local/lib/python3.8/site-packages (from -r requirements.txt (line 6)) (2021.10.8)\n",
      "Requirement already satisfied: charset-normalizer==2.0.12 in /home/nobodypc/.local/lib/python3.8/site-packages (from -r requirements.txt (line 7)) (2.0.12)\n",
      "Requirement already satisfied: cycler==0.11.0 in /home/nobodypc/.local/lib/python3.8/site-packages (from -r requirements.txt (line 8)) (0.11.0)\n",
      "Requirement already satisfied: debugpy==1.6.0 in /home/nobodypc/.local/lib/python3.8/site-packages (from -r requirements.txt (line 9)) (1.6.0)\n",
      "Requirement already satisfied: decorator==5.1.1 in /home/nobodypc/.local/lib/python3.8/site-packages (from -r requirements.txt (line 10)) (5.1.1)\n",
      "Requirement already satisfied: entrypoints==0.4 in /home/nobodypc/.local/lib/python3.8/site-packages (from -r requirements.txt (line 11)) (0.4)\n",
      "Requirement already satisfied: executing==0.8.3 in /home/nobodypc/.local/lib/python3.8/site-packages (from -r requirements.txt (line 12)) (0.8.3)\n",
      "Requirement already satisfied: flatbuffers==2.0 in /home/nobodypc/.local/lib/python3.8/site-packages (from -r requirements.txt (line 13)) (2.0)\n",
      "Requirement already satisfied: fonttools==4.33.3 in /home/nobodypc/.local/lib/python3.8/site-packages (from -r requirements.txt (line 14)) (4.33.3)\n",
      "Requirement already satisfied: gast==0.5.3 in /home/nobodypc/.local/lib/python3.8/site-packages (from -r requirements.txt (line 15)) (0.5.3)\n",
      "Requirement already satisfied: google-auth==2.6.6 in /home/nobodypc/.local/lib/python3.8/site-packages (from -r requirements.txt (line 16)) (2.6.6)\n",
      "Requirement already satisfied: google-auth-oauthlib==0.4.6 in /home/nobodypc/.local/lib/python3.8/site-packages (from -r requirements.txt (line 17)) (0.4.6)\n",
      "Requirement already satisfied: google-pasta==0.2.0 in /home/nobodypc/.local/lib/python3.8/site-packages (from -r requirements.txt (line 18)) (0.2.0)\n",
      "Requirement already satisfied: grpcio==1.44.0 in /home/nobodypc/.local/lib/python3.8/site-packages (from -r requirements.txt (line 19)) (1.44.0)\n",
      "Requirement already satisfied: h5py==3.6.0 in /home/nobodypc/.local/lib/python3.8/site-packages (from -r requirements.txt (line 20)) (3.6.0)\n",
      "Requirement already satisfied: idna==3.3 in /home/nobodypc/.local/lib/python3.8/site-packages (from -r requirements.txt (line 21)) (3.3)\n",
      "Requirement already satisfied: importlib-metadata==4.11.3 in /home/nobodypc/.local/lib/python3.8/site-packages (from -r requirements.txt (line 22)) (4.11.3)\n",
      "Requirement already satisfied: ipykernel==6.13.0 in /home/nobodypc/.local/lib/python3.8/site-packages (from -r requirements.txt (line 23)) (6.13.0)\n",
      "Requirement already satisfied: ipython==8.3.0 in /home/nobodypc/.local/lib/python3.8/site-packages (from -r requirements.txt (line 24)) (8.3.0)\n",
      "Requirement already satisfied: jedi==0.18.1 in /home/nobodypc/.local/lib/python3.8/site-packages (from -r requirements.txt (line 25)) (0.18.1)\n",
      "Requirement already satisfied: joblib==1.1.0 in /home/nobodypc/.local/lib/python3.8/site-packages (from -r requirements.txt (line 26)) (1.1.0)\n",
      "Requirement already satisfied: jupyter-client==7.3.0 in /home/nobodypc/.local/lib/python3.8/site-packages (from -r requirements.txt (line 27)) (7.3.0)\n",
      "Requirement already satisfied: jupyter-core==4.10.0 in /home/nobodypc/.local/lib/python3.8/site-packages (from -r requirements.txt (line 28)) (4.10.0)\n",
      "Requirement already satisfied: keras==2.8.0 in /home/nobodypc/.local/lib/python3.8/site-packages (from -r requirements.txt (line 29)) (2.8.0)\n",
      "Requirement already satisfied: Keras-Preprocessing==1.1.2 in /home/nobodypc/.local/lib/python3.8/site-packages (from -r requirements.txt (line 30)) (1.1.2)\n",
      "Requirement already satisfied: kiwisolver==1.4.2 in /home/nobodypc/.local/lib/python3.8/site-packages (from -r requirements.txt (line 31)) (1.4.2)\n",
      "Requirement already satisfied: libclang==14.0.1 in /home/nobodypc/.local/lib/python3.8/site-packages (from -r requirements.txt (line 32)) (14.0.1)\n",
      "Requirement already satisfied: Markdown==3.3.6 in /home/nobodypc/.local/lib/python3.8/site-packages (from -r requirements.txt (line 33)) (3.3.6)\n",
      "Requirement already satisfied: matplotlib==3.5.1 in /home/nobodypc/.local/lib/python3.8/site-packages (from -r requirements.txt (line 34)) (3.5.1)\n",
      "Requirement already satisfied: matplotlib-inline==0.1.3 in /home/nobodypc/.local/lib/python3.8/site-packages (from -r requirements.txt (line 35)) (0.1.3)\n",
      "Requirement already satisfied: nest-asyncio==1.5.5 in /home/nobodypc/.local/lib/python3.8/site-packages (from -r requirements.txt (line 36)) (1.5.5)\n",
      "Requirement already satisfied: numpy==1.22.3 in /home/nobodypc/.local/lib/python3.8/site-packages (from -r requirements.txt (line 37)) (1.22.3)\n",
      "Requirement already satisfied: oauthlib==3.2.0 in /home/nobodypc/.local/lib/python3.8/site-packages (from -r requirements.txt (line 38)) (3.2.0)\n",
      "Requirement already satisfied: opt-einsum==3.3.0 in /home/nobodypc/.local/lib/python3.8/site-packages (from -r requirements.txt (line 39)) (3.3.0)\n",
      "Requirement already satisfied: packaging==21.3 in /home/nobodypc/.local/lib/python3.8/site-packages (from -r requirements.txt (line 40)) (21.3)\n",
      "Requirement already satisfied: pandas==1.4.2 in /home/nobodypc/.local/lib/python3.8/site-packages (from -r requirements.txt (line 41)) (1.4.2)\n",
      "Requirement already satisfied: parso==0.8.3 in /home/nobodypc/.local/lib/python3.8/site-packages (from -r requirements.txt (line 42)) (0.8.3)\n",
      "Requirement already satisfied: pexpect==4.8.0 in /home/nobodypc/.local/lib/python3.8/site-packages (from -r requirements.txt (line 43)) (4.8.0)\n",
      "Requirement already satisfied: pickleshare==0.7.5 in /home/nobodypc/.local/lib/python3.8/site-packages (from -r requirements.txt (line 44)) (0.7.5)\n",
      "Requirement already satisfied: Pillow==9.1.0 in /home/nobodypc/.local/lib/python3.8/site-packages (from -r requirements.txt (line 45)) (9.1.0)\n",
      "Requirement already satisfied: prompt-toolkit==3.0.29 in /home/nobodypc/.local/lib/python3.8/site-packages (from -r requirements.txt (line 46)) (3.0.29)\n",
      "Requirement already satisfied: protobuf==3.20.1 in /home/nobodypc/.local/lib/python3.8/site-packages (from -r requirements.txt (line 47)) (3.20.1)\n",
      "Requirement already satisfied: psutil==5.9.0 in /home/nobodypc/.local/lib/python3.8/site-packages (from -r requirements.txt (line 48)) (5.9.0)\n",
      "Requirement already satisfied: ptyprocess==0.7.0 in /home/nobodypc/.local/lib/python3.8/site-packages (from -r requirements.txt (line 49)) (0.7.0)\n",
      "Requirement already satisfied: pure-eval==0.2.2 in /home/nobodypc/.local/lib/python3.8/site-packages (from -r requirements.txt (line 50)) (0.2.2)\n",
      "Requirement already satisfied: pyasn1==0.4.8 in /home/nobodypc/.local/lib/python3.8/site-packages (from -r requirements.txt (line 51)) (0.4.8)\n",
      "Requirement already satisfied: pyasn1-modules==0.2.8 in /home/nobodypc/.local/lib/python3.8/site-packages (from -r requirements.txt (line 52)) (0.2.8)\n",
      "Requirement already satisfied: pydotplus==2.0.2 in /home/nobodypc/.local/lib/python3.8/site-packages (from -r requirements.txt (line 53)) (2.0.2)\n",
      "Requirement already satisfied: Pygments==2.12.0 in /home/nobodypc/.local/lib/python3.8/site-packages (from -r requirements.txt (line 54)) (2.12.0)\n",
      "Requirement already satisfied: pyparsing==3.0.8 in /home/nobodypc/.local/lib/python3.8/site-packages (from -r requirements.txt (line 55)) (3.0.8)\n",
      "Requirement already satisfied: python-dateutil==2.8.2 in /home/nobodypc/.local/lib/python3.8/site-packages (from -r requirements.txt (line 56)) (2.8.2)\n",
      "Requirement already satisfied: pytz==2022.1 in /home/nobodypc/.local/lib/python3.8/site-packages (from -r requirements.txt (line 57)) (2022.1)\n",
      "Requirement already satisfied: pyzmq==22.3.0 in /home/nobodypc/.local/lib/python3.8/site-packages (from -r requirements.txt (line 58)) (22.3.0)\n",
      "Requirement already satisfied: requests==2.27.1 in /home/nobodypc/.local/lib/python3.8/site-packages (from -r requirements.txt (line 59)) (2.27.1)\n",
      "Requirement already satisfied: requests-oauthlib==1.3.1 in /home/nobodypc/.local/lib/python3.8/site-packages (from -r requirements.txt (line 60)) (1.3.1)\n",
      "Requirement already satisfied: rsa==4.8 in /home/nobodypc/.local/lib/python3.8/site-packages (from -r requirements.txt (line 61)) (4.8)\n",
      "Requirement already satisfied: scikit-learn==1.0.2 in /home/nobodypc/.local/lib/python3.8/site-packages (from -r requirements.txt (line 62)) (1.0.2)\n",
      "Requirement already satisfied: scipy==1.8.0 in /home/nobodypc/.local/lib/python3.8/site-packages (from -r requirements.txt (line 63)) (1.8.0)\n",
      "Requirement already satisfied: six==1.16.0 in /home/nobodypc/.local/lib/python3.8/site-packages (from -r requirements.txt (line 64)) (1.16.0)\n",
      "Requirement already satisfied: sklearn==0.0 in /home/nobodypc/.local/lib/python3.8/site-packages (from -r requirements.txt (line 65)) (0.0)\n",
      "Requirement already satisfied: spotipy==2.19.0 in /home/nobodypc/.local/lib/python3.8/site-packages (from -r requirements.txt (line 66)) (2.19.0)\n",
      "Requirement already satisfied: stack-data==0.2.0 in /home/nobodypc/.local/lib/python3.8/site-packages (from -r requirements.txt (line 67)) (0.2.0)\n",
      "Requirement already satisfied: tensorboard==2.8.0 in /home/nobodypc/.local/lib/python3.8/site-packages (from -r requirements.txt (line 68)) (2.8.0)\n",
      "Requirement already satisfied: tensorboard-data-server==0.6.1 in /home/nobodypc/.local/lib/python3.8/site-packages (from -r requirements.txt (line 69)) (0.6.1)\n",
      "Requirement already satisfied: tensorboard-plugin-wit==1.8.1 in /home/nobodypc/.local/lib/python3.8/site-packages (from -r requirements.txt (line 70)) (1.8.1)\n",
      "Requirement already satisfied: tensorflow==2.8.0 in /home/nobodypc/.local/lib/python3.8/site-packages (from -r requirements.txt (line 71)) (2.8.0)\n",
      "Requirement already satisfied: tensorflow-io-gcs-filesystem==0.25.0 in /home/nobodypc/.local/lib/python3.8/site-packages (from -r requirements.txt (line 72)) (0.25.0)\n",
      "Requirement already satisfied: termcolor==1.1.0 in /home/nobodypc/.local/lib/python3.8/site-packages (from -r requirements.txt (line 73)) (1.1.0)\n",
      "Requirement already satisfied: tf-estimator-nightly==2.8.0.dev2021122109 in /home/nobodypc/.local/lib/python3.8/site-packages (from -r requirements.txt (line 74)) (2.8.0.dev2021122109)\n",
      "Requirement already satisfied: threadpoolctl==3.1.0 in /home/nobodypc/.local/lib/python3.8/site-packages (from -r requirements.txt (line 75)) (3.1.0)\n",
      "Requirement already satisfied: tornado==6.1 in /home/nobodypc/.local/lib/python3.8/site-packages (from -r requirements.txt (line 76)) (6.1)\n",
      "Requirement already satisfied: traitlets==5.1.1 in /home/nobodypc/.local/lib/python3.8/site-packages (from -r requirements.txt (line 77)) (5.1.1)\n",
      "Requirement already satisfied: typing-extensions==4.2.0 in /home/nobodypc/.local/lib/python3.8/site-packages (from -r requirements.txt (line 78)) (4.2.0)\n",
      "Requirement already satisfied: urllib3==1.26.9 in /home/nobodypc/.local/lib/python3.8/site-packages (from -r requirements.txt (line 79)) (1.26.9)\n",
      "Requirement already satisfied: wcwidth==0.2.5 in /home/nobodypc/.local/lib/python3.8/site-packages (from -r requirements.txt (line 80)) (0.2.5)\n",
      "Requirement already satisfied: Werkzeug==2.1.2 in /home/nobodypc/.local/lib/python3.8/site-packages (from -r requirements.txt (line 81)) (2.1.2)\n",
      "Requirement already satisfied: wrapt==1.14.1 in /home/nobodypc/.local/lib/python3.8/site-packages (from -r requirements.txt (line 82)) (1.14.1)\n",
      "Requirement already satisfied: zipp==3.8.0 in /home/nobodypc/.local/lib/python3.8/site-packages (from -r requirements.txt (line 83)) (3.8.0)\n",
      "Requirement already satisfied: wheel<1.0,>=0.23.0 in /usr/lib/python3/dist-packages (from astunparse==1.6.3->-r requirements.txt (line 3)) (0.34.2)\n",
      "Requirement already satisfied: setuptools>=18.5 in /usr/lib/python3/dist-packages (from ipython==8.3.0->-r requirements.txt (line 24)) (45.2.0)\n",
      "Note: you may need to restart the kernel to use updated packages.\n"
     ]
    }
   ],
   "source": [
    "%pip install -r requirements.txt"
   ]
  },
  {
   "cell_type": "markdown",
   "metadata": {},
   "source": [
    "### Εισαγωγή χρήσιμων βιβλιοθηκών"
   ]
  },
  {
   "cell_type": "code",
   "execution_count": 11,
   "metadata": {},
   "outputs": [],
   "source": [
    "import glob\n",
    "from datetime import datetime\n",
    "import re\n",
    "import pandas as pd\n",
    "import numpy as np\n",
    "import spotipy\n",
    "from spotipy.oauth2 import SpotifyClientCredentials\n",
    "import matplotlib.pyplot as plt\n",
    "from sklearn.preprocessing import StandardScaler\n",
    "from sklearn.decomposition import PCA\n",
    "from sklearn.tree import DecisionTreeRegressor\n",
    "from sklearn import metrics\n",
    "from sklearn import tree\n",
    "from io import StringIO\n",
    "from IPython.display import Image  \n",
    "import pydotplus\n",
    "from sklearn.metrics import mean_absolute_error\n",
    "from sklearn.ensemble import RandomForestRegressor\n",
    "from sklearn.model_selection import GridSearchCV\n",
    "from sklearn.model_selection import KFold\n",
    "from sklearn.ensemble import ExtraTreesRegressor\n",
    "from sklearn.ensemble import AdaBoostRegressor\n",
    "from sklearn.linear_model import LinearRegression\n",
    "\n",
    "import tensorflow as tf\n",
    "from tensorflow import keras\n",
    "from keras import layers"
   ]
  },
  {
   "cell_type": "markdown",
   "metadata": {},
   "source": [
    "### Είσοδος στο Spotify API ()\n",
    "Μπορεί να γίνει είσοδος στο Spotify API είτε με το αρχείο `spotify_config.py`, το οποίο δεν περιέχετε στα αρχεία που ανέβηκαν, τρέχοντας το πρώτο παράθυρο, είτε βάζοντας τα credentials σαν είσοδο στο συγκεκριμένο notebook τρέχοντας το δεύτερο."
   ]
  },
  {
   "cell_type": "code",
   "execution_count": 12,
   "metadata": {},
   "outputs": [],
   "source": [
    "# from spotify_config import config\n",
    "\n",
    "# client_credentials_manager = SpotifyClientCredentials(config['client_id'],\n",
    "#                                                       config['client_secret'])\n",
    "# sp = spotipy.Spotify(client_credentials_manager=client_credentials_manager)"
   ]
  },
  {
   "cell_type": "code",
   "execution_count": 15,
   "metadata": {},
   "outputs": [],
   "source": [
    "client_id = input(\"Please give client ID\")\n",
    "client_secret = input(\"Please enter your client Secret\")\n",
    "\n",
    "client_credentials_manager = SpotifyClientCredentials(client_id,client_secret)\n",
    "sp = spotipy.Spotify(client_credentials_manager=client_credentials_manager)"
   ]
  },
  {
   "cell_type": "markdown",
   "metadata": {},
   "source": [
    "### Εισαγωγή δεδομένων\n",
    "\n",
    "Ο φάκελος `charts.zip` έχει αποσυμπιεστεί στον φάκελο `Charts`, ο οποίος δεν περιέχεται στο παρόν `zip`, λόγω των οδηγιών που δόθηκαν."
   ]
  },
  {
   "cell_type": "code",
   "execution_count": 16,
   "metadata": {},
   "outputs": [],
   "source": [
    "# Read data from files\n",
    "header = 0\n",
    "dfs = []\n",
    "for file in glob.glob('Charts/*/201?/*.csv'):\n",
    "    region = file.split('/')[1]\n",
    "    dates = re.findall('\\d{4}-\\d{2}-\\d{2}', file.split('/')[-1])\n",
    "    weekly_chart = pd.read_csv(file, header=header, sep='\\t')\n",
    "    weekly_chart['week_start'] = datetime.strptime(dates[0], '%Y-%m-%d')\n",
    "    weekly_chart['week_end'] = datetime.strptime(dates[1], '%Y-%m-%d')\n",
    "    weekly_chart['region'] = region\n",
    "    dfs.append(weekly_chart)\n",
    "all_charts = pd.concat(dfs)\n",
    "\n",
    "# Features of each song from spotify\n",
    "features = {}\n",
    "all_track_ids = list(all_charts['song_id'].unique())\n",
    "start = 0\n",
    "num_tracks = 100\n",
    "while start < len(all_track_ids):\n",
    "    tracks_batch = all_track_ids[start:start+num_tracks]\n",
    "    features_batch = sp.audio_features(tracks_batch)\n",
    "    features.update({ track_id : track_features \n",
    "                     for track_id, track_features in zip(tracks_batch, features_batch) })\n",
    "    start += num_tracks\n",
    "\n",
    "tracks = pd.DataFrame.from_dict(features, orient='index')\n",
    "tracks = tracks.reset_index(drop=True).rename(columns={'id' : 'song_id'})\n",
    "del tracks['type'], tracks['uri'], tracks['track_href'], tracks['analysis_url']\n",
    "\n",
    "# Train data\n",
    "x_train = tracks.copy()\n",
    "x_train.set_index('song_id', inplace=True)\n",
    "y_train = pd.Series(x_train['valence'], name='valence')\n",
    "x_train = x_train[['danceability', 'energy', 'key', 'loudness', 'mode', 'speechiness', 'acousticness', 'instrumentalness', 'liveness', 'tempo', 'duration_ms','time_signature']]\n",
    "\n",
    "# Test data\n",
    "with open('spotify_ids.txt') as f:\n",
    "    lines = f.readlines()\n",
    "for line in range(len(lines)):\n",
    "    lines[line] = lines[line].replace('\\n','')\n",
    "\n",
    "features_test = {}\n",
    "test_track_ids = lines\n",
    "start = 0\n",
    "num_tracks = 100\n",
    "while start < len(test_track_ids):\n",
    "    tracks_batch_test = test_track_ids[start:start+num_tracks]\n",
    "    features_batch_test = sp.audio_features(tracks_batch_test)\n",
    "    features_test.update({ track_id : track_features \n",
    "                     for track_id, track_features in zip(tracks_batch_test, features_batch_test) })\n",
    "    start += num_tracks\n",
    "\n",
    "tracks_test = pd.DataFrame.from_dict(features_test, orient='index')\n",
    "tracks_test = tracks_test.reset_index(drop=True).rename(columns={'id' : 'song_id'})\n",
    "\n",
    "x_test = tracks_test.copy()\n",
    "x_test.set_index('song_id', inplace=True)\n",
    "y_test = pd.Series(x_test['valence'], name='valence')\n",
    "x_test = x_test[['danceability', 'energy', 'key', 'loudness', 'mode', 'speechiness', 'acousticness', 'instrumentalness', 'liveness', 'tempo', 'duration_ms','time_signature']]"
   ]
  },
  {
   "cell_type": "markdown",
   "metadata": {},
   "source": [
    "* Διαγραφηκαν οι στήλες `type`, `uri`, `track_ref`, `analysis_url` των δεδομένων καθώς δεν θα ήταν χρήσιμα για την εκπαίδευση κάποιου μοντέλου μηχανικής μάθησης"
   ]
  },
  {
   "cell_type": "markdown",
   "metadata": {},
   "source": [
    "#### Μείωση διαστάσεων με PCA\n",
    "Δεδομένου ότι η PCA χρησιμοποιεί τη διακύμανση είναι μέθοδος που επιδέχεται (ή χρειάζεται) κανονικοποίηση στα δεδομένα.</br>\n",
    "Όμως σύμφωνα με την παρακάτω ανάλυση δεν αποτυπώνεται μεγάλο μέρος της πληροφορίας όταν μειώνονται οι διαστάσεις των δεδομένων.</br>\n",
    "<b>Γι'αυτό το λόγο δε θα γίνει μείωση διαστασιμότητας των δεδομένων</b>"
   ]
  },
  {
   "cell_type": "code",
   "execution_count": 17,
   "metadata": {},
   "outputs": [
    {
     "data": {
      "image/png": "[encoded data removed]",
      "text/plain": [
       "<Figure size 1152x576 with 2 Axes>"
      ]
     },
     "metadata": {
      "needs_background": "light"
     },
     "output_type": "display_data"
    }
   ],
   "source": [
    "standard_scaler = StandardScaler()\n",
    "x_scaled = standard_scaler.fit_transform(x_test)\n",
    "pca = PCA(n_components=12)\n",
    "pca.fit(x_scaled)\n",
    "plt.figure(figsize=(16, 8))\n",
    "plt.subplot(1, 2, 1)\n",
    "plt.plot(pca.explained_variance_ratio_, marker='o')\n",
    "plt.xlabel('Principal Component')\n",
    "plt.ylabel('PVE')\n",
    "plt.subplot(1, 2, 2)\n",
    "plt.plot(np.cumsum(pca.explained_variance_ratio_), marker='o', color='orange')\n",
    "plt.xlabel('Principal Component')\n",
    "_ = plt.ylabel('Cumulative PVE')"
   ]
  },
  {
   "cell_type": "markdown",
   "metadata": {},
   "source": [
    "### Πρόβλεψη Σθένους άνευ Νευρωνικών Δικτύων"
   ]
  },
  {
   "cell_type": "markdown",
   "metadata": {},
   "source": [
    "#### Μέθοδος 1\n",
    "Γραμμική παλινδρόμηση"
   ]
  },
  {
   "cell_type": "code",
   "execution_count": 18,
   "metadata": {},
   "outputs": [
    {
     "name": "stdout",
     "output_type": "stream",
     "text": [
      "Linear regression has Mean Absolute Error = 0.16042524564362148\n"
     ]
    }
   ],
   "source": [
    "regressor = LinearRegression()\n",
    "regressor.fit(x_train, y_train)\n",
    "y_pred1 = regressor.predict(x_test) \n",
    "mse1 = mean_absolute_error(y_test, y_pred1)\n",
    "print(f\"Linear regression has Mean Absolute Error = {mse1}\")"
   ]
  },
  {
   "cell_type": "markdown",
   "metadata": {},
   "source": [
    "#### Μέθοδος 2\n",
    "Δένδρα αποφάσεων"
   ]
  },
  {
   "cell_type": "code",
   "execution_count": 19,
   "metadata": {},
   "outputs": [
    {
     "name": "stdout",
     "output_type": "stream",
     "text": [
      "Decision Tree with max depth 6 has Mean Absolute Error = 0.16367630538795902\n"
     ]
    }
   ],
   "source": [
    "# Search for max depth of the tree with GridSearch\n",
    "parameters = [\n",
    "  {'max_depth': list(range(1, 12))}\n",
    "]\n",
    "\n",
    "cv = KFold(n_splits=5, shuffle=True)\n",
    "clf = GridSearchCV(DecisionTreeRegressor(), parameters, cv=cv)\n",
    "clf = clf.fit(x_train, y_train)\n",
    "y_pred2 = clf.predict(x_test)\n",
    "mse2 = mean_absolute_error(y_test, y_pred2)\n",
    "\n",
    "print(f\"Decision Tree with max depth {clf.best_params_['max_depth']} has Mean Absolute Error = {mse2}\")"
   ]
  },
  {
   "cell_type": "markdown",
   "metadata": {},
   "source": [
    "#### Μέθοδος 3\n",
    "Τυχαία Δάση"
   ]
  },
  {
   "cell_type": "code",
   "execution_count": 20,
   "metadata": {},
   "outputs": [
    {
     "name": "stdout",
     "output_type": "stream",
     "text": [
      "Random Forest has Mean Absolute Error = 0.13937175674125069\n"
     ]
    }
   ],
   "source": [
    "forest = RandomForestRegressor(n_estimators=50, n_jobs=-1)\n",
    "forest.fit(x_train, y_train)\n",
    "y_pred3 = forest.predict(x_test)\n",
    "mse3 = mean_absolute_error(y_test, y_pred3)\n",
    "print(f\"Random Forest has Mean Absolute Error = {mse3}\")"
   ]
  },
  {
   "cell_type": "markdown",
   "metadata": {},
   "source": [
    "#### Μέθοδος 4\n",
    "Ακραίως στοχαστικά δάση"
   ]
  },
  {
   "cell_type": "code",
   "execution_count": 21,
   "metadata": {},
   "outputs": [
    {
     "name": "stdout",
     "output_type": "stream",
     "text": [
      "Extremely Randomized Trees has Mean Absolute Error = 0.1329623580034424\n"
     ]
    }
   ],
   "source": [
    "extra_forest = ExtraTreesRegressor(n_estimators=50, n_jobs=-1)\n",
    "extra_forest.fit(x_train, y_train)\n",
    "y_pred4 = extra_forest.predict(x_test)\n",
    "mse4 = mean_absolute_error(y_test, y_pred4)\n",
    "print(f\"Extremely Randomized Trees has Mean Absolute Error = {mse4}\")"
   ]
  },
  {
   "cell_type": "markdown",
   "metadata": {},
   "source": [
    "#### Μέθοδος 5\n",
    "AdaBoost"
   ]
  },
  {
   "cell_type": "code",
   "execution_count": 22,
   "metadata": {},
   "outputs": [
    {
     "name": "stdout",
     "output_type": "stream",
     "text": [
      "AdaBoost has Mean Absolute Error = 0.13105688468158347\n"
     ]
    }
   ],
   "source": [
    "ada_boost_rgr = AdaBoostRegressor(DecisionTreeRegressor(), n_estimators=50)\n",
    "ada_boost_rgr.fit(x_train, y_train)\n",
    "y_pred5 = ada_boost_rgr.predict(x_test)\n",
    "mse5 = mean_absolute_error(y_test, y_pred5)\n",
    "print(f\"AdaBoost has Mean Absolute Error = {mse5}\")"
   ]
  },
  {
   "cell_type": "code",
   "execution_count": 23,
   "metadata": {},
   "outputs": [
    {
     "data": {
      "image/png": "[encoded data removed]",
      "text/plain": [
       "<Figure size 576x432 with 1 Axes>"
      ]
     },
     "metadata": {
      "needs_background": "light"
     },
     "output_type": "display_data"
    }
   ],
   "source": [
    "# Feature Importance\n",
    "importances = ada_boost_rgr.feature_importances_\n",
    "indices = np.argsort(importances)[::-1]\n",
    "std = np.std([tree.feature_importances_ for tree in ada_boost_rgr.estimators_], axis=0)\n",
    "\n",
    "plt.figure(figsize=(8, 6))\n",
    "plt.title(\"Feature importances\")\n",
    "plt.bar(range(len(x_train.columns)), importances[indices],\n",
    "        tick_label=[x_train.columns[x] for x in indices],\n",
    "        color=\"r\", yerr=std[indices], align=\"center\")\n",
    "_ = plt.xticks(rotation=45)"
   ]
  },
  {
   "cell_type": "markdown",
   "metadata": {},
   "source": [
    "* Παρατηρείται πως αν εκτελεστούν τα παραπάνω μοντέλα πολλές φορές το Μέσο Τετραγωνικό Σφάλμα των Μοντέλων 3-4-5 είναι κάθε φορά καλύτερο από τα Μοντέλα 1-2.</br>\n",
    "* Ακόμα από την σημαντικότητα των χαρακτηριστικών παρατηρείται ότι τα χαρακτηριστικά `time_signature` και `mode` δεν παρέχουν χρήσιμη πληροφορία.\n"
   ]
  },
  {
   "cell_type": "markdown",
   "metadata": {},
   "source": [
    "### Πρόβλεψη Σθένους με Νευρωνικά Δίκτυα"
   ]
  },
  {
   "cell_type": "markdown",
   "metadata": {},
   "source": [
    "#### Κανονικοποίηση Δεδομένων"
   ]
  },
  {
   "cell_type": "code",
   "execution_count": 24,
   "metadata": {},
   "outputs": [],
   "source": [
    "# Normalize data\n",
    "standard_scaler = StandardScaler()\n",
    "x_train_scaled = pd.DataFrame(standard_scaler.fit_transform(x_train), columns=x_train.columns)\n",
    "x_test_scaled = pd.DataFrame(standard_scaler.transform(x_test), columns = x_test.columns)"
   ]
  },
  {
   "cell_type": "markdown",
   "metadata": {},
   "source": [
    "#### 1ο Μοντέλο Νευρωνικών Δικτύων\n",
    "* Στο πρώτο μοντέλο δοκιμάστηκαν οι βελτιστοποιητές `Adam`, `RMSProp` και `SGD` με `learning_rate = 0.001, 0.01 και 0.1`. Επιλεχθηκε ο `SGD` με `learning_rate = 0.01`\n",
    "* Oι συνερτήσεις ενεργοποίησης `tanh` και `relu` δεν είχαν κάποια διαφορά στο Μέσο τετραγωνικό σφάλμα στο σετ επαλήθευσης.\n",
    "* Ακόμα δοκιμάστηκαν 16, 32, 64, 128 και 256 νευρώνες για το επίπεδο του νευρωνικού, όμως υπήρχαν φαινόμενα υπερπροσαρμογής όσο αυξανόταν ο αριθμός των νευρώνων, ο βέλτιστος αριθμός νευρώνων ήταν το 32.\n",
    "* Χρόνος εκπαίδευσης &asymp; 0.5 minutes"
   ]
  },
  {
   "cell_type": "code",
   "execution_count": 25,
   "metadata": {},
   "outputs": [
    {
     "name": "stderr",
     "output_type": "stream",
     "text": [
      "2022-05-02 21:04:27.674885: I tensorflow/stream_executor/cuda/cuda_gpu_executor.cc:936] successful NUMA node read from SysFS had negative value (-1), but there must be at least one NUMA node, so returning NUMA node zero\n",
      "2022-05-02 21:04:27.675317: W tensorflow/stream_executor/platform/default/dso_loader.cc:64] Could not load dynamic library 'libcudart.so.11.0'; dlerror: libcudart.so.11.0: cannot open shared object file: No such file or directory\n",
      "2022-05-02 21:04:27.675381: W tensorflow/stream_executor/platform/default/dso_loader.cc:64] Could not load dynamic library 'libcublas.so.11'; dlerror: libcublas.so.11: cannot open shared object file: No such file or directory\n",
      "2022-05-02 21:04:27.675437: W tensorflow/stream_executor/platform/default/dso_loader.cc:64] Could not load dynamic library 'libcublasLt.so.11'; dlerror: libcublasLt.so.11: cannot open shared object file: No such file or directory\n",
      "2022-05-02 21:04:27.675491: W tensorflow/stream_executor/platform/default/dso_loader.cc:64] Could not load dynamic library 'libcufft.so.10'; dlerror: libcufft.so.10: cannot open shared object file: No such file or directory\n",
      "2022-05-02 21:04:27.675544: W tensorflow/stream_executor/platform/default/dso_loader.cc:64] Could not load dynamic library 'libcurand.so.10'; dlerror: libcurand.so.10: cannot open shared object file: No such file or directory\n",
      "2022-05-02 21:04:27.675597: W tensorflow/stream_executor/platform/default/dso_loader.cc:64] Could not load dynamic library 'libcusolver.so.11'; dlerror: libcusolver.so.11: cannot open shared object file: No such file or directory\n",
      "2022-05-02 21:04:27.675649: W tensorflow/stream_executor/platform/default/dso_loader.cc:64] Could not load dynamic library 'libcusparse.so.11'; dlerror: libcusparse.so.11: cannot open shared object file: No such file or directory\n",
      "2022-05-02 21:04:27.675699: W tensorflow/stream_executor/platform/default/dso_loader.cc:64] Could not load dynamic library 'libcudnn.so.8'; dlerror: libcudnn.so.8: cannot open shared object file: No such file or directory\n",
      "2022-05-02 21:04:27.675709: W tensorflow/core/common_runtime/gpu/gpu_device.cc:1850] Cannot dlopen some GPU libraries. Please make sure the missing libraries mentioned above are installed properly if you would like to use GPU. Follow the guide at https://www.tensorflow.org/install/gpu for how to download and setup the required libraries for your platform.\n",
      "Skipping registering GPU devices...\n",
      "2022-05-02 21:04:27.676012: I tensorflow/core/platform/cpu_feature_guard.cc:151] This TensorFlow binary is optimized with oneAPI Deep Neural Network Library (oneDNN) to use the following CPU instructions in performance-critical operations:  AVX2 FMA\n",
      "To enable them in other operations, rebuild TensorFlow with the appropriate compiler flags.\n"
     ]
    },
    {
     "name": "stdout",
     "output_type": "stream",
     "text": [
      "Mean Absolute Error of Neural Network 1: 0.15526332446359314\n"
     ]
    },
    {
     "data": {
      "text/plain": [
       "<matplotlib.legend.Legend at 0x7fb2c921d670>"
      ]
     },
     "execution_count": 25,
     "metadata": {},
     "output_type": "execute_result"
    },
    {
     "data": {
      "image/png": "[encoded data removed]",
      "text/plain": [
       "<Figure size 432x288 with 1 Axes>"
      ]
     },
     "metadata": {
      "needs_background": "light"
     },
     "output_type": "display_data"
    }
   ],
   "source": [
    "model = keras.models.Sequential()\n",
    "model.add(layers.Dense(32, input_shape=(12,), activation='relu'))\n",
    "model.add(layers.Dense(1, activation='relu'))\n",
    "model.compile(optimizer=keras.optimizers.SGD(learning_rate=0.01), loss='mae', metrics=['mae']) \n",
    "\n",
    "history = model.fit(x_train_scaled, y_train, epochs=100, verbose=False, validation_split=0.25, batch_size=32) \n",
    "y_pred_nn = model.predict(x_test_scaled)\n",
    "print(f\"Mean Absolute Error of Neural Network 1: {mean_absolute_error(y_test,y_pred_nn)}\")\n",
    "\n",
    "# Plot MSE    \n",
    "plt.plot(history.history['loss'], label='loss')\n",
    "plt.plot(history.history['val_loss'], label='val_loss')\n",
    "plt.xlabel('Epoch')\n",
    "plt.ylabel('Mean Absolute Error')\n",
    "plt.legend()\n"
   ]
  },
  {
   "cell_type": "markdown",
   "metadata": {},
   "source": [
    "#### 2ο Μοντέλο Νευρωνικών Δικτύων\n",
    "* Ελαφρώς καλύτερη αλλα δίχως μεγάλη διαφορά μετρικής από το 1ο μοντέλο\n",
    "* Υπερπροσαρμογή στα δεδομένα εκπαίδευσης\n",
    "* Χρόνος εκπαίδευσης &asymp; 0.8 minutes"
   ]
  },
  {
   "cell_type": "code",
   "execution_count": 26,
   "metadata": {},
   "outputs": [
    {
     "name": "stdout",
     "output_type": "stream",
     "text": [
      "Mean Absolute Error of Neural Network 2: 0.15904367925126664\n"
     ]
    },
    {
     "data": {
      "text/plain": [
       "<matplotlib.legend.Legend at 0x7fb2c6fe3430>"
      ]
     },
     "execution_count": 26,
     "metadata": {},
     "output_type": "execute_result"
    },
    {
     "data": {
      "image/png": "[encoded data removed]",
      "text/plain": [
       "<Figure size 432x288 with 1 Axes>"
      ]
     },
     "metadata": {
      "needs_background": "light"
     },
     "output_type": "display_data"
    }
   ],
   "source": [
    "model2 = keras.models.Sequential()\n",
    "model2.add(layers.Dense(32, input_shape=(12,), activation='relu'))\n",
    "model2.add(layers.Dense(64, activation='relu'))\n",
    "model2.add(layers.Dense(32, activation='relu'))\n",
    "model2.add(layers.Dense(1, activation='relu'))\n",
    "model2.compile(optimizer=keras.optimizers.SGD(learning_rate=0.01), loss='mae', metrics=['mae']) \n",
    "\n",
    "history2 = model2.fit(x_train_scaled, y_train, epochs=100, verbose=False, validation_split=0.25, batch_size=32) \n",
    "y_pred_nn2 = model2.predict(x_test_scaled)\n",
    "print(f\"Mean Absolute Error of Neural Network 2: {mean_absolute_error(y_test,y_pred_nn2)}\")\n",
    "\n",
    "# Plot MSE    \n",
    "plt.plot(history2.history['loss'], label='loss')\n",
    "plt.plot(history2.history['val_loss'], label='val_loss')\n",
    "plt.xlabel('Epoch')\n",
    "plt.ylabel('Mean Absolute Error')\n",
    "plt.legend()\n"
   ]
  },
  {
   "cell_type": "markdown",
   "metadata": {},
   "source": [
    "#### 3ο Μοντέλο Νευρωνικών Δικτύων\n",
    "* Βελτίωση του φαινομένου υπερπροσαρμογής\n",
    "* Δεν υπήρξε βελτίωση της μετρικής των Μέσων Τετραγωνικών Σφαλμάτων\n",
    "* Χρόνος εκπαίδευσης &asymp; 0.8 minutes"
   ]
  },
  {
   "cell_type": "code",
   "execution_count": 27,
   "metadata": {},
   "outputs": [
    {
     "name": "stdout",
     "output_type": "stream",
     "text": [
      "Mean Absolute Error of Neural Network 3: 0.16058804141348693\n"
     ]
    },
    {
     "data": {
      "text/plain": [
       "<matplotlib.legend.Legend at 0x7fb2caafdeb0>"
      ]
     },
     "execution_count": 27,
     "metadata": {},
     "output_type": "execute_result"
    },
    {
     "data": {
      "image/png": "[encoded data removed]",
      "text/plain": [
       "<Figure size 432x288 with 1 Axes>"
      ]
     },
     "metadata": {
      "needs_background": "light"
     },
     "output_type": "display_data"
    }
   ],
   "source": [
    "model3 = keras.models.Sequential()\n",
    "model3.add(layers.Dense(32, input_shape=(12,), activation='relu'))\n",
    "model3.add(layers.Dropout(0.2))\n",
    "model3.add(layers.Dense(64, activation='relu'))\n",
    "model3.add(layers.Dropout(0.3))\n",
    "model3.add(layers.Dense(32, activation='relu'))\n",
    "model3.add(layers.Dropout(0.2))\n",
    "model3.add(layers.Dense(1, activation='relu'))\n",
    "model3.compile(optimizer=keras.optimizers.SGD(learning_rate=0.01), loss='mae', metrics=['mae']) \n",
    "\n",
    "history3 = model3.fit(x_train_scaled, y_train, epochs=100, verbose=False, validation_split=0.25, batch_size=32) \n",
    "y_pred_nn3 = model3.predict(x_test_scaled)\n",
    "print(f\"Mean Absolute Error of Neural Network 3: {mean_absolute_error(y_test,y_pred_nn3)}\")\n",
    "\n",
    "# Plot MSE    \n",
    "plt.plot(history3.history['loss'], label='loss')\n",
    "plt.plot(history3.history['val_loss'], label='val_loss')\n",
    "plt.xlabel('Epoch')\n",
    "plt.ylabel('Mean Absolute Error')\n",
    "plt.legend()"
   ]
  },
  {
   "cell_type": "markdown",
   "metadata": {},
   "source": [
    "### Αξιολόγηση μοντέλων\n",
    "\n",
    "Στον παρακάτω πίνακα φαίνεται η μετρική Μέσου Απόλυτου Σφάλματος για όλα τα μοντέλα μηχανικής μάθησης και νευρωνικών δικτύων. Το συγκεκριμένο πρόβλημα λύθηκε καλύτερα με το μοντέλο AdaBoost. Ακόμα γενικότερα τα μοντέλα δένδρων μηχανικής μάθησης τα πήγαν καλύτερα από τα νευρωνικά δίκτυα.\n",
    "\n",
    "<table>\n",
    "    <tr>\n",
    "        <th colspan=\"6\"> Non-Neural Networks</th>\n",
    "    </tr>\n",
    "    <tr>\n",
    "        <th></th>\n",
    "        <th>Linear Regression</th>\n",
    "        <th>Decision Tree</th>\n",
    "        <th>Random Forest</th>\n",
    "        <th>Extra Stochastic Trees</th>\n",
    "        <th>AdaBoost</th> \n",
    "    </tr>\n",
    "    <tr>\n",
    "        <th>Mean Absolute Error</th>\n",
    "        <td>0.16042524564362148</td>\n",
    "        <td>0.16367630538795902</td>\n",
    "        <td>0.13937175674125069</td>\n",
    "        <td>0.1329623580034424</td>\n",
    "        <td>0.13105688468158347</td>\n",
    "    </tr>\n",
    "</table>\n",
    "\n",
    "\n",
    "<table>\n",
    "    <tr>\n",
    "        <th colspan=\"4\"> Neural Networks</th>\n",
    "    </tr>\n",
    "    <tr>\n",
    "        <th></th>\n",
    "        <th>1st Neural Network</th>\n",
    "        <th>2nd Neural Network</th>\n",
    "        <th>3rd Neural Network</th>  \n",
    "    </tr>\n",
    "    <tr>\n",
    "        <th>Mean Absolute Error</th>\n",
    "        <td>0.15526332446359314</td>\n",
    "        <td>0.15904367925126664</td>\n",
    "        <td>0.16058804141348693</td>\n",
    "    </tr>\n",
    "</table>"
   ]
  },
  {
   "cell_type": "markdown",
   "metadata": {},
   "source": []
  }
 ],
 "metadata": {
  "interpreter": {
   "hash": "916dbcbb3f70747c44a77c7bcd40155683ae19c65e1c03b4aa3499c5328201f1"
  },
  "kernelspec": {
   "display_name": "Python 3.8.10 64-bit",
   "language": "python",
   "name": "python3"
  },
  "language_info": {
   "codemirror_mode": {
    "name": "ipython",
    "version": 3
   },
   "file_extension": ".py",
   "mimetype": "text/x-python",
   "name": "python",
   "nbconvert_exporter": "python",
   "pygments_lexer": "ipython3",
   "version": "3.8.10"
  },
  "orig_nbformat": 4
 },
 "nbformat": 4,
 "nbformat_minor": 2
}
